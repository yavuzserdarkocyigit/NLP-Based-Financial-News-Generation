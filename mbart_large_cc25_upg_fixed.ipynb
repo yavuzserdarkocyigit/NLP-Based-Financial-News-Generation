{
  "nbformat": 4,
  "nbformat_minor": 0,
  "metadata": {
    "colab": {
      "provenance": [],
      "machine_shape": "hm",
      "gpuType": "A100"
    },
    "kernelspec": {
      "name": "python3",
      "display_name": "Python 3"
    },
    "language_info": {
      "name": "python"
    },
    "accelerator": "GPU",
    "widgets": {
      "application/vnd.jupyter.widget-state+json": {
        "state": {
          "8bfc3277b4c84646bd8979cfd6fbb458": {
            "model_module": "@jupyter-widgets/controls",
            "model_name": "HBoxModel",
            "model_module_version": "1.5.0",
            "state": {
              "_dom_classes": [],
              "_model_module": "@jupyter-widgets/controls",
              "_model_module_version": "1.5.0",
              "_model_name": "HBoxModel",
              "_view_count": null,
              "_view_module": "@jupyter-widgets/controls",
              "_view_module_version": "1.5.0",
              "_view_name": "HBoxView",
              "box_style": "",
              "children": [
                "IPY_MODEL_8f5f48819598448dbacf907f826a6114",
                "IPY_MODEL_c04fc536949a42e8bef194bd23597aac",
                "IPY_MODEL_93c7bdbc9be34cda9719435e1ac09ad1"
              ],
              "layout": "IPY_MODEL_bb71b512952243bea55265386216efbc"
            }
          },
          "8f5f48819598448dbacf907f826a6114": {
            "model_module": "@jupyter-widgets/controls",
            "model_name": "HTMLModel",
            "model_module_version": "1.5.0",
            "state": {
              "_dom_classes": [],
              "_model_module": "@jupyter-widgets/controls",
              "_model_module_version": "1.5.0",
              "_model_name": "HTMLModel",
              "_view_count": null,
              "_view_module": "@jupyter-widgets/controls",
              "_view_module_version": "1.5.0",
              "_view_name": "HTMLView",
              "description": "",
              "description_tooltip": null,
              "layout": "IPY_MODEL_f742e5314da24febbeed3f7ac410f37f",
              "placeholder": "\u200b",
              "style": "IPY_MODEL_14edd122516b4d3ca55da3e3fe0dc55d",
              "value": "Map:\u2007100%"
            }
          },
          "c04fc536949a42e8bef194bd23597aac": {
            "model_module": "@jupyter-widgets/controls",
            "model_name": "FloatProgressModel",
            "model_module_version": "1.5.0",
            "state": {
              "_dom_classes": [],
              "_model_module": "@jupyter-widgets/controls",
              "_model_module_version": "1.5.0",
              "_model_name": "FloatProgressModel",
              "_view_count": null,
              "_view_module": "@jupyter-widgets/controls",
              "_view_module_version": "1.5.0",
              "_view_name": "ProgressView",
              "bar_style": "success",
              "description": "",
              "description_tooltip": null,
              "layout": "IPY_MODEL_609374ceb7e742a18a7531a40c0b1e81",
              "max": 360,
              "min": 0,
              "orientation": "horizontal",
              "style": "IPY_MODEL_130676583981418e9004959d9bb6f1b7",
              "value": 360
            }
          },
          "93c7bdbc9be34cda9719435e1ac09ad1": {
            "model_module": "@jupyter-widgets/controls",
            "model_name": "HTMLModel",
            "model_module_version": "1.5.0",
            "state": {
              "_dom_classes": [],
              "_model_module": "@jupyter-widgets/controls",
              "_model_module_version": "1.5.0",
              "_model_name": "HTMLModel",
              "_view_count": null,
              "_view_module": "@jupyter-widgets/controls",
              "_view_module_version": "1.5.0",
              "_view_name": "HTMLView",
              "description": "",
              "description_tooltip": null,
              "layout": "IPY_MODEL_5c4ae2b994884f0183e1ba4e20ce460b",
              "placeholder": "\u200b",
              "style": "IPY_MODEL_53b1d862b68a4f62bb4680c3cdf5d9f3",
              "value": "\u2007360/360\u2007[00:00&lt;00:00,\u20072555.33\u2007examples/s]"
            }
          },
          "bb71b512952243bea55265386216efbc": {
            "model_module": "@jupyter-widgets/base",
            "model_name": "LayoutModel",
            "model_module_version": "1.2.0",
            "state": {
              "_model_module": "@jupyter-widgets/base",
              "_model_module_version": "1.2.0",
              "_model_name": "LayoutModel",
              "_view_count": null,
              "_view_module": "@jupyter-widgets/base",
              "_view_module_version": "1.2.0",
              "_view_name": "LayoutView",
              "align_content": null,
              "align_items": null,
              "align_self": null,
              "border": null,
              "bottom": null,
              "display": null,
              "flex": null,
              "flex_flow": null,
              "grid_area": null,
              "grid_auto_columns": null,
              "grid_auto_flow": null,
              "grid_auto_rows": null,
              "grid_column": null,
              "grid_gap": null,
              "grid_row": null,
              "grid_template_areas": null,
              "grid_template_columns": null,
              "grid_template_rows": null,
              "height": null,
              "justify_content": null,
              "justify_items": null,
              "left": null,
              "margin": null,
              "max_height": null,
              "max_width": null,
              "min_height": null,
              "min_width": null,
              "object_fit": null,
              "object_position": null,
              "order": null,
              "overflow": null,
              "overflow_x": null,
              "overflow_y": null,
              "padding": null,
              "right": null,
              "top": null,
              "visibility": null,
              "width": null
            }
          },
          "f742e5314da24febbeed3f7ac410f37f": {
            "model_module": "@jupyter-widgets/base",
            "model_name": "LayoutModel",
            "model_module_version": "1.2.0",
            "state": {
              "_model_module": "@jupyter-widgets/base",
              "_model_module_version": "1.2.0",
              "_model_name": "LayoutModel",
              "_view_count": null,
              "_view_module": "@jupyter-widgets/base",
              "_view_module_version": "1.2.0",
              "_view_name": "LayoutView",
              "align_content": null,
              "align_items": null,
              "align_self": null,
              "border": null,
              "bottom": null,
              "display": null,
              "flex": null,
              "flex_flow": null,
              "grid_area": null,
              "grid_auto_columns": null,
              "grid_auto_flow": null,
              "grid_auto_rows": null,
              "grid_column": null,
              "grid_gap": null,
              "grid_row": null,
              "grid_template_areas": null,
              "grid_template_columns": null,
              "grid_template_rows": null,
              "height": null,
              "justify_content": null,
              "justify_items": null,
              "left": null,
              "margin": null,
              "max_height": null,
              "max_width": null,
              "min_height": null,
              "min_width": null,
              "object_fit": null,
              "object_position": null,
              "order": null,
              "overflow": null,
              "overflow_x": null,
              "overflow_y": null,
              "padding": null,
              "right": null,
              "top": null,
              "visibility": null,
              "width": null
            }
          },
          "14edd122516b4d3ca55da3e3fe0dc55d": {
            "model_module": "@jupyter-widgets/controls",
            "model_name": "DescriptionStyleModel",
            "model_module_version": "1.5.0",
            "state": {
              "_model_module": "@jupyter-widgets/controls",
              "_model_module_version": "1.5.0",
              "_model_name": "DescriptionStyleModel",
              "_view_count": null,
              "_view_module": "@jupyter-widgets/base",
              "_view_module_version": "1.2.0",
              "_view_name": "StyleView",
              "description_width": ""
            }
          },
          "609374ceb7e742a18a7531a40c0b1e81": {
            "model_module": "@jupyter-widgets/base",
            "model_name": "LayoutModel",
            "model_module_version": "1.2.0",
            "state": {
              "_model_module": "@jupyter-widgets/base",
              "_model_module_version": "1.2.0",
              "_model_name": "LayoutModel",
              "_view_count": null,
              "_view_module": "@jupyter-widgets/base",
              "_view_module_version": "1.2.0",
              "_view_name": "LayoutView",
              "align_content": null,
              "align_items": null,
              "align_self": null,
              "border": null,
              "bottom": null,
              "display": null,
              "flex": null,
              "flex_flow": null,
              "grid_area": null,
              "grid_auto_columns": null,
              "grid_auto_flow": null,
              "grid_auto_rows": null,
              "grid_column": null,
              "grid_gap": null,
              "grid_row": null,
              "grid_template_areas": null,
              "grid_template_columns": null,
              "grid_template_rows": null,
              "height": null,
              "justify_content": null,
              "justify_items": null,
              "left": null,
              "margin": null,
              "max_height": null,
              "max_width": null,
              "min_height": null,
              "min_width": null,
              "object_fit": null,
              "object_position": null,
              "order": null,
              "overflow": null,
              "overflow_x": null,
              "overflow_y": null,
              "padding": null,
              "right": null,
              "top": null,
              "visibility": null,
              "width": null
            }
          },
          "130676583981418e9004959d9bb6f1b7": {
            "model_module": "@jupyter-widgets/controls",
            "model_name": "ProgressStyleModel",
            "model_module_version": "1.5.0",
            "state": {
              "_model_module": "@jupyter-widgets/controls",
              "_model_module_version": "1.5.0",
              "_model_name": "ProgressStyleModel",
              "_view_count": null,
              "_view_module": "@jupyter-widgets/base",
              "_view_module_version": "1.2.0",
              "_view_name": "StyleView",
              "bar_color": null,
              "description_width": ""
            }
          },
          "5c4ae2b994884f0183e1ba4e20ce460b": {
            "model_module": "@jupyter-widgets/base",
            "model_name": "LayoutModel",
            "model_module_version": "1.2.0",
            "state": {
              "_model_module": "@jupyter-widgets/base",
              "_model_module_version": "1.2.0",
              "_model_name": "LayoutModel",
              "_view_count": null,
              "_view_module": "@jupyter-widgets/base",
              "_view_module_version": "1.2.0",
              "_view_name": "LayoutView",
              "align_content": null,
              "align_items": null,
              "align_self": null,
              "border": null,
              "bottom": null,
              "display": null,
              "flex": null,
              "flex_flow": null,
              "grid_area": null,
              "grid_auto_columns": null,
              "grid_auto_flow": null,
              "grid_auto_rows": null,
              "grid_column": null,
              "grid_gap": null,
              "grid_row": null,
              "grid_template_areas": null,
              "grid_template_columns": null,
              "grid_template_rows": null,
              "height": null,
              "justify_content": null,
              "justify_items": null,
              "left": null,
              "margin": null,
              "max_height": null,
              "max_width": null,
              "min_height": null,
              "min_width": null,
              "object_fit": null,
              "object_position": null,
              "order": null,
              "overflow": null,
              "overflow_x": null,
              "overflow_y": null,
              "padding": null,
              "right": null,
              "top": null,
              "visibility": null,
              "width": null
            }
          },
          "53b1d862b68a4f62bb4680c3cdf5d9f3": {
            "model_module": "@jupyter-widgets/controls",
            "model_name": "DescriptionStyleModel",
            "model_module_version": "1.5.0",
            "state": {
              "_model_module": "@jupyter-widgets/controls",
              "_model_module_version": "1.5.0",
              "_model_name": "DescriptionStyleModel",
              "_view_count": null,
              "_view_module": "@jupyter-widgets/base",
              "_view_module_version": "1.2.0",
              "_view_name": "StyleView",
              "description_width": ""
            }
          },
          "be258898499349f2acdf502c19fc2fac": {
            "model_module": "@jupyter-widgets/controls",
            "model_name": "HBoxModel",
            "model_module_version": "1.5.0",
            "state": {
              "_dom_classes": [],
              "_model_module": "@jupyter-widgets/controls",
              "_model_module_version": "1.5.0",
              "_model_name": "HBoxModel",
              "_view_count": null,
              "_view_module": "@jupyter-widgets/controls",
              "_view_module_version": "1.5.0",
              "_view_name": "HBoxView",
              "box_style": "",
              "children": [
                "IPY_MODEL_04d86a157006430ba74935ad25b6e8de",
                "IPY_MODEL_5c9d33233eae4a4eb24c5500041fd11e",
                "IPY_MODEL_2959fbb129d240729e0b1519fd68fdb2"
              ],
              "layout": "IPY_MODEL_e6151d69828349f095d483d1a4a32d81"
            }
          },
          "04d86a157006430ba74935ad25b6e8de": {
            "model_module": "@jupyter-widgets/controls",
            "model_name": "HTMLModel",
            "model_module_version": "1.5.0",
            "state": {
              "_dom_classes": [],
              "_model_module": "@jupyter-widgets/controls",
              "_model_module_version": "1.5.0",
              "_model_name": "HTMLModel",
              "_view_count": null,
              "_view_module": "@jupyter-widgets/controls",
              "_view_module_version": "1.5.0",
              "_view_name": "HTMLView",
              "description": "",
              "description_tooltip": null,
              "layout": "IPY_MODEL_8139da18836c45548a646ef15e257155",
              "placeholder": "\u200b",
              "style": "IPY_MODEL_65a4eceffd7a4588903e9db8b55ae7cd",
              "value": "Map:\u2007100%"
            }
          },
          "5c9d33233eae4a4eb24c5500041fd11e": {
            "model_module": "@jupyter-widgets/controls",
            "model_name": "FloatProgressModel",
            "model_module_version": "1.5.0",
            "state": {
              "_dom_classes": [],
              "_model_module": "@jupyter-widgets/controls",
              "_model_module_version": "1.5.0",
              "_model_name": "FloatProgressModel",
              "_view_count": null,
              "_view_module": "@jupyter-widgets/controls",
              "_view_module_version": "1.5.0",
              "_view_name": "ProgressView",
              "bar_style": "success",
              "description": "",
              "description_tooltip": null,
              "layout": "IPY_MODEL_bf91c6d0b7ff4fafb1d5dd9e25da42b3",
              "max": 40,
              "min": 0,
              "orientation": "horizontal",
              "style": "IPY_MODEL_639ad92629164bd6bcb65e7feb7ba6e7",
              "value": 40
            }
          },
          "2959fbb129d240729e0b1519fd68fdb2": {
            "model_module": "@jupyter-widgets/controls",
            "model_name": "HTMLModel",
            "model_module_version": "1.5.0",
            "state": {
              "_dom_classes": [],
              "_model_module": "@jupyter-widgets/controls",
              "_model_module_version": "1.5.0",
              "_model_name": "HTMLModel",
              "_view_count": null,
              "_view_module": "@jupyter-widgets/controls",
              "_view_module_version": "1.5.0",
              "_view_name": "HTMLView",
              "description": "",
              "description_tooltip": null,
              "layout": "IPY_MODEL_cbeb8c7fb3f34975aaac70b835e50479",
              "placeholder": "\u200b",
              "style": "IPY_MODEL_8e9b3caa9ec34169a26c4111667c2031",
              "value": "\u200740/40\u2007[00:00&lt;00:00,\u20071265.78\u2007examples/s]"
            }
          },
          "e6151d69828349f095d483d1a4a32d81": {
            "model_module": "@jupyter-widgets/base",
            "model_name": "LayoutModel",
            "model_module_version": "1.2.0",
            "state": {
              "_model_module": "@jupyter-widgets/base",
              "_model_module_version": "1.2.0",
              "_model_name": "LayoutModel",
              "_view_count": null,
              "_view_module": "@jupyter-widgets/base",
              "_view_module_version": "1.2.0",
              "_view_name": "LayoutView",
              "align_content": null,
              "align_items": null,
              "align_self": null,
              "border": null,
              "bottom": null,
              "display": null,
              "flex": null,
              "flex_flow": null,
              "grid_area": null,
              "grid_auto_columns": null,
              "grid_auto_flow": null,
              "grid_auto_rows": null,
              "grid_column": null,
              "grid_gap": null,
              "grid_row": null,
              "grid_template_areas": null,
              "grid_template_columns": null,
              "grid_template_rows": null,
              "height": null,
              "justify_content": null,
              "justify_items": null,
              "left": null,
              "margin": null,
              "max_height": null,
              "max_width": null,
              "min_height": null,
              "min_width": null,
              "object_fit": null,
              "object_position": null,
              "order": null,
              "overflow": null,
              "overflow_x": null,
              "overflow_y": null,
              "padding": null,
              "right": null,
              "top": null,
              "visibility": null,
              "width": null
            }
          },
          "8139da18836c45548a646ef15e257155": {
            "model_module": "@jupyter-widgets/base",
            "model_name": "LayoutModel",
            "model_module_version": "1.2.0",
            "state": {
              "_model_module": "@jupyter-widgets/base",
              "_model_module_version": "1.2.0",
              "_model_name": "LayoutModel",
              "_view_count": null,
              "_view_module": "@jupyter-widgets/base",
              "_view_module_version": "1.2.0",
              "_view_name": "LayoutView",
              "align_content": null,
              "align_items": null,
              "align_self": null,
              "border": null,
              "bottom": null,
              "display": null,
              "flex": null,
              "flex_flow": null,
              "grid_area": null,
              "grid_auto_columns": null,
              "grid_auto_flow": null,
              "grid_auto_rows": null,
              "grid_column": null,
              "grid_gap": null,
              "grid_row": null,
              "grid_template_areas": null,
              "grid_template_columns": null,
              "grid_template_rows": null,
              "height": null,
              "justify_content": null,
              "justify_items": null,
              "left": null,
              "margin": null,
              "max_height": null,
              "max_width": null,
              "min_height": null,
              "min_width": null,
              "object_fit": null,
              "object_position": null,
              "order": null,
              "overflow": null,
              "overflow_x": null,
              "overflow_y": null,
              "padding": null,
              "right": null,
              "top": null,
              "visibility": null,
              "width": null
            }
          },
          "65a4eceffd7a4588903e9db8b55ae7cd": {
            "model_module": "@jupyter-widgets/controls",
            "model_name": "DescriptionStyleModel",
            "model_module_version": "1.5.0",
            "state": {
              "_model_module": "@jupyter-widgets/controls",
              "_model_module_version": "1.5.0",
              "_model_name": "DescriptionStyleModel",
              "_view_count": null,
              "_view_module": "@jupyter-widgets/base",
              "_view_module_version": "1.2.0",
              "_view_name": "StyleView",
              "description_width": ""
            }
          },
          "bf91c6d0b7ff4fafb1d5dd9e25da42b3": {
            "model_module": "@jupyter-widgets/base",
            "model_name": "LayoutModel",
            "model_module_version": "1.2.0",
            "state": {
              "_model_module": "@jupyter-widgets/base",
              "_model_module_version": "1.2.0",
              "_model_name": "LayoutModel",
              "_view_count": null,
              "_view_module": "@jupyter-widgets/base",
              "_view_module_version": "1.2.0",
              "_view_name": "LayoutView",
              "align_content": null,
              "align_items": null,
              "align_self": null,
              "border": null,
              "bottom": null,
              "display": null,
              "flex": null,
              "flex_flow": null,
              "grid_area": null,
              "grid_auto_columns": null,
              "grid_auto_flow": null,
              "grid_auto_rows": null,
              "grid_column": null,
              "grid_gap": null,
              "grid_row": null,
              "grid_template_areas": null,
              "grid_template_columns": null,
              "grid_template_rows": null,
              "height": null,
              "justify_content": null,
              "justify_items": null,
              "left": null,
              "margin": null,
              "max_height": null,
              "max_width": null,
              "min_height": null,
              "min_width": null,
              "object_fit": null,
              "object_position": null,
              "order": null,
              "overflow": null,
              "overflow_x": null,
              "overflow_y": null,
              "padding": null,
              "right": null,
              "top": null,
              "visibility": null,
              "width": null
            }
          },
          "639ad92629164bd6bcb65e7feb7ba6e7": {
            "model_module": "@jupyter-widgets/controls",
            "model_name": "ProgressStyleModel",
            "model_module_version": "1.5.0",
            "state": {
              "_model_module": "@jupyter-widgets/controls",
              "_model_module_version": "1.5.0",
              "_model_name": "ProgressStyleModel",
              "_view_count": null,
              "_view_module": "@jupyter-widgets/base",
              "_view_module_version": "1.2.0",
              "_view_name": "StyleView",
              "bar_color": null,
              "description_width": ""
            }
          },
          "cbeb8c7fb3f34975aaac70b835e50479": {
            "model_module": "@jupyter-widgets/base",
            "model_name": "LayoutModel",
            "model_module_version": "1.2.0",
            "state": {
              "_model_module": "@jupyter-widgets/base",
              "_model_module_version": "1.2.0",
              "_model_name": "LayoutModel",
              "_view_count": null,
              "_view_module": "@jupyter-widgets/base",
              "_view_module_version": "1.2.0",
              "_view_name": "LayoutView",
              "align_content": null,
              "align_items": null,
              "align_self": null,
              "border": null,
              "bottom": null,
              "display": null,
              "flex": null,
              "flex_flow": null,
              "grid_area": null,
              "grid_auto_columns": null,
              "grid_auto_flow": null,
              "grid_auto_rows": null,
              "grid_column": null,
              "grid_gap": null,
              "grid_row": null,
              "grid_template_areas": null,
              "grid_template_columns": null,
              "grid_template_rows": null,
              "height": null,
              "justify_content": null,
              "justify_items": null,
              "left": null,
              "margin": null,
              "max_height": null,
              "max_width": null,
              "min_height": null,
              "min_width": null,
              "object_fit": null,
              "object_position": null,
              "order": null,
              "overflow": null,
              "overflow_x": null,
              "overflow_y": null,
              "padding": null,
              "right": null,
              "top": null,
              "visibility": null,
              "width": null
            }
          },
          "8e9b3caa9ec34169a26c4111667c2031": {
            "model_module": "@jupyter-widgets/controls",
            "model_name": "DescriptionStyleModel",
            "model_module_version": "1.5.0",
            "state": {
              "_model_module": "@jupyter-widgets/controls",
              "_model_module_version": "1.5.0",
              "_model_name": "DescriptionStyleModel",
              "_view_count": null,
              "_view_module": "@jupyter-widgets/base",
              "_view_module_version": "1.2.0",
              "_view_name": "StyleView",
              "description_width": ""
            }
          }
        },
        "version_major": 2,
        "version_minor": 0
      }
    }
  },
  "cells": [
    {
      "cell_type": "code",
      "source": [
        "from google.colab import drive\n",
        "drive.mount('/content/drive')"
      ],
      "metadata": {
        "colab": {
          "base_uri": "https://localhost:8080/"
        },
        "id": "b0WwIrYMGoMm",
        "outputId": "e5125779-7ea5-47e3-e7ac-f0a7e57e54ea"
      },
      "execution_count": null,
      "outputs": [
        {
          "output_type": "stream",
          "name": "stdout",
          "text": [
            "Mounted at /content/drive\n"
          ]
        }
      ]
    },
    {
      "cell_type": "code",
      "execution_count": null,
      "metadata": {
        "id": "v_Rshp9nGPPK"
      },
      "outputs": [],
      "source": [
        "import pandas as pd\n",
        "import torch\n",
        "from datasets import Dataset\n",
        "from transformers import MBartTokenizer, MBartForConditionalGeneration, DataCollatorForSeq2Seq, get_scheduler, MBart50TokenizerFast\n",
        "from torch.utils.data import DataLoader\n",
        "from tqdm import tqdm\n",
        "from sklearn.model_selection import train_test_split"
      ]
    },
    {
      "cell_type": "code",
      "source": [
        "device = torch.device('cuda' if torch.cuda.is_available() else 'cpu')\n",
        "\n",
        "df = pd.read_excel('/content/drive/MyDrive/CS549_Project/CS549_project.xlsx')\n",
        "df = df[['Stock_Report', 'News']].copy()  # Warning fix\n",
        "df[\"Stock_Report\"] = \"haberle\u015ftir: \" + df[\"Stock_Report\"]\n",
        "\n",
        "train_df, val_df = train_test_split(df, test_size=0.1, random_state=42)\n",
        "train_dataset = Dataset.from_pandas(train_df.reset_index(drop=True))\n",
        "val_dataset = Dataset.from_pandas(val_df.reset_index(drop=True))\n",
        "\n",
        "model_name = \"facebook/mbart-large-cc25\"\n",
        "tokenizer = MBart50TokenizerFast.from_pretrained(model_name)\n",
        "tokenizer.src_lang = \"tr_XX\"\n",
        "tokenizer.tgt_lang = \"tr_XX\"\n",
        "model = MBartForConditionalGeneration.from_pretrained(model_name).to(device)\n",
        "\n",
        "def tokenize_function(examples):\n",
        "    model_inputs = tokenizer(examples['Stock_Report'], max_length=512, truncation=True, padding=\"max_length\")\n",
        "    with tokenizer.as_target_tokenizer():\n",
        "        labels = tokenizer(examples['News'], max_length=128, truncation=True, padding=\"max_length\")\n",
        "    model_inputs[\"labels\"] = labels[\"input_ids\"]\n",
        "    return model_inputs\n",
        "\n",
        "train_dataset = train_dataset.map(tokenize_function, batched=True, remove_columns=['Stock_Report', 'News'])\n",
        "val_dataset = val_dataset.map(tokenize_function, batched=True, remove_columns=['Stock_Report', 'News'])\n",
        "\n",
        "data_collator = DataCollatorForSeq2Seq(tokenizer=tokenizer, model=model)\n",
        "train_loader = DataLoader(train_dataset, batch_size=4, shuffle=True, collate_fn=data_collator)\n",
        "val_loader = DataLoader(val_dataset, batch_size=4, collate_fn=data_collator)\n",
        "\n",
        "optimizer = torch.optim.AdamW(model.parameters(), lr=3e-5, weight_decay=0.05)\n",
        "num_epochs = 40\n",
        "\n",
        "patience = 5\n",
        "trigger_count = 0\n",
        "best_val_loss = float(\"inf\")\n",
        "\n",
        "for epoch in range(num_epochs):\n",
        "    model.train()\n",
        "    total_loss = 0\n",
        "    print(f\"\\n\ud83d\udfe2 Epoch {epoch+1}/{num_epochs}\")\n",
        "\n",
        "    for batch in tqdm(train_loader, desc=\"Training\"):\n",
        "        input_ids = batch['input_ids'].to(device)\n",
        "        attention_mask = batch['attention_mask'].to(device)\n",
        "        labels = batch['labels'].to(device)\n",
        "\n",
        "        outputs = model(input_ids=input_ids, attention_mask=attention_mask, labels=labels)\n",
        "        loss = outputs.loss\n",
        "\n",
        "        loss.backward()\n",
        "        torch.nn.utils.clip_grad_norm_(model.parameters(), max_norm=1.0)\n",
        "        optimizer.step()\n",
        "        optimizer.zero_grad()\n",
        "        total_loss += loss.item()\n",
        "\n",
        "    avg_loss = total_loss / len(train_loader)\n",
        "    print(f\"\ud83d\udcc9 Training Loss     : {avg_loss:.4f}\")\n",
        "\n",
        "    # Validation\n",
        "    model.eval()\n",
        "    total_val_loss = 0\n",
        "    with torch.no_grad():\n",
        "        for batch in tqdm(val_loader, desc=\"Validating\"):\n",
        "            input_ids = batch['input_ids'].to(device)\n",
        "            attention_mask = batch['attention_mask'].to(device)\n",
        "            labels = batch['labels'].to(device)\n",
        "\n",
        "            outputs = model(input_ids=input_ids, attention_mask=attention_mask, labels=labels)\n",
        "            loss = outputs.loss\n",
        "            total_val_loss += loss.item()\n",
        "\n",
        "    avg_val_loss = total_val_loss / len(val_loader)\n",
        "    print(f\"\ud83e\uddea Validation Loss  : {avg_val_loss:.4f}\")\n",
        "\n",
        "    # Early stopping\n",
        "    if avg_val_loss < best_val_loss:\n",
        "        best_val_loss = avg_val_loss\n",
        "        trigger_count = 0\n",
        "    else:\n",
        "        trigger_count += 1\n",
        "        print(f\"\u26a0\ufe0f Validation loss did not improve. Trigger count: {trigger_count}/{patience}\")\n",
        "        if trigger_count >= patience:\n",
        "            print(\"\u26d4 Early stopping activated.\")\n",
        "            break"
      ],
      "metadata": {
        "colab": {
          "base_uri": "https://localhost:8080/",
          "height": 1000,
          "referenced_widgets": [
            "8bfc3277b4c84646bd8979cfd6fbb458",
            "8f5f48819598448dbacf907f826a6114",
            "c04fc536949a42e8bef194bd23597aac",
            "93c7bdbc9be34cda9719435e1ac09ad1",
            "bb71b512952243bea55265386216efbc",
            "f742e5314da24febbeed3f7ac410f37f",
            "14edd122516b4d3ca55da3e3fe0dc55d",
            "609374ceb7e742a18a7531a40c0b1e81",
            "130676583981418e9004959d9bb6f1b7",
            "5c4ae2b994884f0183e1ba4e20ce460b",
            "53b1d862b68a4f62bb4680c3cdf5d9f3",
            "be258898499349f2acdf502c19fc2fac",
            "04d86a157006430ba74935ad25b6e8de",
            "5c9d33233eae4a4eb24c5500041fd11e",
            "2959fbb129d240729e0b1519fd68fdb2",
            "e6151d69828349f095d483d1a4a32d81",
            "8139da18836c45548a646ef15e257155",
            "65a4eceffd7a4588903e9db8b55ae7cd",
            "bf91c6d0b7ff4fafb1d5dd9e25da42b3",
            "639ad92629164bd6bcb65e7feb7ba6e7",
            "cbeb8c7fb3f34975aaac70b835e50479",
            "8e9b3caa9ec34169a26c4111667c2031"
          ]
        },
        "id": "mVaTqTbEGVnp",
        "outputId": "811d9834-2dac-422f-e91c-ef41bbe4e20f"
      },
      "execution_count": null,
      "outputs": [
        {
          "output_type": "stream",
          "name": "stderr",
          "text": [
            "The tokenizer class you load from this checkpoint is not the same type as the class this function is called from. It may result in unexpected tokenization. \n",
            "The tokenizer class you load from this checkpoint is 'MBartTokenizer'. \n",
            "The class this function is called from is 'MBart50TokenizerFast'.\n"
          ]
        },
        {
          "output_type": "display_data",
          "data": {
            "text/plain": [
              "Map:   0%|          | 0/360 [00:00<?, ? examples/s]"
            ],
            "application/vnd.jupyter.widget-view+json": {
              "version_major": 2,
              "version_minor": 0,
              "model_id": "8bfc3277b4c84646bd8979cfd6fbb458"
            }
          },
          "metadata": {}
        },
        {
          "output_type": "stream",
          "name": "stderr",
          "text": [
            "/usr/local/lib/python3.11/dist-packages/transformers/tokenization_utils_base.py:3980: UserWarning: `as_target_tokenizer` is deprecated and will be removed in v5 of Transformers. You can tokenize your labels by using the argument `text_target` of the regular `__call__` method (either in the same call as your input texts if you use the same keyword arguments, or in a separate call.\n",
            "  warnings.warn(\n"
          ]
        },
        {
          "output_type": "display_data",
          "data": {
            "text/plain": [
              "Map:   0%|          | 0/40 [00:00<?, ? examples/s]"
            ],
            "application/vnd.jupyter.widget-view+json": {
              "version_major": 2,
              "version_minor": 0,
              "model_id": "be258898499349f2acdf502c19fc2fac"
            }
          },
          "metadata": {}
        },
        {
          "output_type": "stream",
          "name": "stdout",
          "text": [
            "\n",
            "\ud83d\udfe2 Epoch 1/40\n"
          ]
        },
        {
          "output_type": "stream",
          "name": "stderr",
          "text": [
            "Training: 100%|\u2588\u2588\u2588\u2588\u2588\u2588\u2588\u2588\u2588\u2588| 90/90 [00:26<00:00,  3.36it/s]\n"
          ]
        },
        {
          "output_type": "stream",
          "name": "stdout",
          "text": [
            "\ud83d\udcc9 Training Loss     : 4.0262\n"
          ]
        },
        {
          "output_type": "stream",
          "name": "stderr",
          "text": [
            "Validating: 100%|\u2588\u2588\u2588\u2588\u2588\u2588\u2588\u2588\u2588\u2588| 10/10 [00:00<00:00, 11.25it/s]\n"
          ]
        },
        {
          "output_type": "stream",
          "name": "stdout",
          "text": [
            "\ud83e\uddea Validation Loss  : 2.8941\n",
            "\n",
            "\ud83d\udfe2 Epoch 2/40\n"
          ]
        },
        {
          "output_type": "stream",
          "name": "stderr",
          "text": [
            "Training: 100%|\u2588\u2588\u2588\u2588\u2588\u2588\u2588\u2588\u2588\u2588| 90/90 [00:26<00:00,  3.39it/s]\n"
          ]
        },
        {
          "output_type": "stream",
          "name": "stdout",
          "text": [
            "\ud83d\udcc9 Training Loss     : 1.9288\n"
          ]
        },
        {
          "output_type": "stream",
          "name": "stderr",
          "text": [
            "Validating: 100%|\u2588\u2588\u2588\u2588\u2588\u2588\u2588\u2588\u2588\u2588| 10/10 [00:00<00:00, 11.25it/s]\n"
          ]
        },
        {
          "output_type": "stream",
          "name": "stdout",
          "text": [
            "\ud83e\uddea Validation Loss  : 1.9883\n",
            "\n",
            "\ud83d\udfe2 Epoch 3/40\n"
          ]
        },
        {
          "output_type": "stream",
          "name": "stderr",
          "text": [
            "Training: 100%|\u2588\u2588\u2588\u2588\u2588\u2588\u2588\u2588\u2588\u2588| 90/90 [00:26<00:00,  3.39it/s]\n"
          ]
        },
        {
          "output_type": "stream",
          "name": "stdout",
          "text": [
            "\ud83d\udcc9 Training Loss     : 1.4263\n"
          ]
        },
        {
          "output_type": "stream",
          "name": "stderr",
          "text": [
            "Validating: 100%|\u2588\u2588\u2588\u2588\u2588\u2588\u2588\u2588\u2588\u2588| 10/10 [00:00<00:00, 11.18it/s]\n"
          ]
        },
        {
          "output_type": "stream",
          "name": "stdout",
          "text": [
            "\ud83e\uddea Validation Loss  : 1.9335\n",
            "\n",
            "\ud83d\udfe2 Epoch 4/40\n"
          ]
        },
        {
          "output_type": "stream",
          "name": "stderr",
          "text": [
            "Training: 100%|\u2588\u2588\u2588\u2588\u2588\u2588\u2588\u2588\u2588\u2588| 90/90 [00:26<00:00,  3.39it/s]\n"
          ]
        },
        {
          "output_type": "stream",
          "name": "stdout",
          "text": [
            "\ud83d\udcc9 Training Loss     : 1.1199\n"
          ]
        },
        {
          "output_type": "stream",
          "name": "stderr",
          "text": [
            "Validating: 100%|\u2588\u2588\u2588\u2588\u2588\u2588\u2588\u2588\u2588\u2588| 10/10 [00:00<00:00, 11.25it/s]\n"
          ]
        },
        {
          "output_type": "stream",
          "name": "stdout",
          "text": [
            "\ud83e\uddea Validation Loss  : 1.9428\n",
            "\u26a0\ufe0f Validation loss did not improve. Trigger count: 1/5\n",
            "\n",
            "\ud83d\udfe2 Epoch 5/40\n"
          ]
        },
        {
          "output_type": "stream",
          "name": "stderr",
          "text": [
            "Training: 100%|\u2588\u2588\u2588\u2588\u2588\u2588\u2588\u2588\u2588\u2588| 90/90 [00:26<00:00,  3.39it/s]\n"
          ]
        },
        {
          "output_type": "stream",
          "name": "stdout",
          "text": [
            "\ud83d\udcc9 Training Loss     : 0.8589\n"
          ]
        },
        {
          "output_type": "stream",
          "name": "stderr",
          "text": [
            "Validating: 100%|\u2588\u2588\u2588\u2588\u2588\u2588\u2588\u2588\u2588\u2588| 10/10 [00:00<00:00, 11.25it/s]\n"
          ]
        },
        {
          "output_type": "stream",
          "name": "stdout",
          "text": [
            "\ud83e\uddea Validation Loss  : 2.0680\n",
            "\u26a0\ufe0f Validation loss did not improve. Trigger count: 2/5\n",
            "\n",
            "\ud83d\udfe2 Epoch 6/40\n"
          ]
        },
        {
          "output_type": "stream",
          "name": "stderr",
          "text": [
            "Training: 100%|\u2588\u2588\u2588\u2588\u2588\u2588\u2588\u2588\u2588\u2588| 90/90 [00:26<00:00,  3.39it/s]\n"
          ]
        },
        {
          "output_type": "stream",
          "name": "stdout",
          "text": [
            "\ud83d\udcc9 Training Loss     : 10.9757\n"
          ]
        },
        {
          "output_type": "stream",
          "name": "stderr",
          "text": [
            "Validating: 100%|\u2588\u2588\u2588\u2588\u2588\u2588\u2588\u2588\u2588\u2588| 10/10 [00:00<00:00, 11.25it/s]\n"
          ]
        },
        {
          "output_type": "stream",
          "name": "stdout",
          "text": [
            "\ud83e\uddea Validation Loss  : 15.5178\n",
            "\u26a0\ufe0f Validation loss did not improve. Trigger count: 3/5\n",
            "\n",
            "\ud83d\udfe2 Epoch 7/40\n"
          ]
        },
        {
          "output_type": "stream",
          "name": "stderr",
          "text": [
            "Training: 100%|\u2588\u2588\u2588\u2588\u2588\u2588\u2588\u2588\u2588\u2588| 90/90 [00:26<00:00,  3.39it/s]\n"
          ]
        },
        {
          "output_type": "stream",
          "name": "stdout",
          "text": [
            "\ud83d\udcc9 Training Loss     : 10.5672\n"
          ]
        },
        {
          "output_type": "stream",
          "name": "stderr",
          "text": [
            "Validating: 100%|\u2588\u2588\u2588\u2588\u2588\u2588\u2588\u2588\u2588\u2588| 10/10 [00:00<00:00, 11.22it/s]\n"
          ]
        },
        {
          "output_type": "stream",
          "name": "stdout",
          "text": [
            "\ud83e\uddea Validation Loss  : 4.1426\n",
            "\u26a0\ufe0f Validation loss did not improve. Trigger count: 4/5\n",
            "\n",
            "\ud83d\udfe2 Epoch 8/40\n"
          ]
        },
        {
          "output_type": "stream",
          "name": "stderr",
          "text": [
            "Training: 100%|\u2588\u2588\u2588\u2588\u2588\u2588\u2588\u2588\u2588\u2588| 90/90 [00:26<00:00,  3.39it/s]\n"
          ]
        },
        {
          "output_type": "stream",
          "name": "stdout",
          "text": [
            "\ud83d\udcc9 Training Loss     : 1.1632\n"
          ]
        },
        {
          "output_type": "stream",
          "name": "stderr",
          "text": [
            "Validating: 100%|\u2588\u2588\u2588\u2588\u2588\u2588\u2588\u2588\u2588\u2588| 10/10 [00:00<00:00, 11.27it/s]"
          ]
        },
        {
          "output_type": "stream",
          "name": "stdout",
          "text": [
            "\ud83e\uddea Validation Loss  : 2.3483\n",
            "\u26a0\ufe0f Validation loss did not improve. Trigger count: 5/5\n",
            "\u26d4 Early stopping activated.\n"
          ]
        },
        {
          "output_type": "stream",
          "name": "stderr",
          "text": [
            "\n"
          ]
        }
      ]
    },
    {
      "cell_type": "code",
      "source": [
        "def generate_news(stock_report_text, model, tokenizer, device):\n",
        "    prompt = \"haberle\u015ftir: \" + stock_report_text\n",
        "    inputs = tokenizer(prompt, return_tensors=\"pt\", max_length=512, truncation=True).to(device)\n",
        "\n",
        "    with torch.no_grad():\n",
        "        generated_ids = model.generate(\n",
        "            input_ids=inputs[\"input_ids\"],\n",
        "            attention_mask=inputs[\"attention_mask\"],\n",
        "            max_length=256,\n",
        "            num_beams=4,\n",
        "            repetition_penalty=2.5,\n",
        "            early_stopping=True\n",
        "        )\n",
        "\n",
        "    generated_text = tokenizer.decode(generated_ids[0], skip_special_tokens=True)\n",
        "    return generated_text\n"
      ],
      "metadata": {
        "id": "DAEqVWR0blvb"
      },
      "execution_count": null,
      "outputs": []
    },
    {
      "cell_type": "code",
      "source": [
        "sample_stock_report = (\n",
        "    \"\u015eirketimizin 21.03.2025 tarihli \u00f6zel durum a\u00e7\u0131klamas\u0131nda, paylar\u0131n\u0131n tamam\u0131na sahip oldu\u011fumuz ba\u011fl\u0131 ortakl\u0131\u011f\u0131m\u0131z Marba\u015f Menkul De\u011ferler A\u015e'nin (Marba\u015f Menkul), 150.000.000 TL olan \u00e7\u0131kar\u0131lm\u0131\u015f sermayesinin 360.000.000 TL'ye \u00e7\u0131kar\u0131lmas\u0131na, art\u0131r\u0131lan 210.000.000 TL sermayenin i\u00e7 kaynaklardan kar\u015f\u0131lanmas\u0131na ili\u015fkin olarak Marba\u015f Menkul taraf\u0131ndan Sermaye Piyasas\u0131 Kurulu'na yap\u0131lan ba\u015fvurunun olumlu kar\u015f\u0131land\u0131\u011f\u0131 duyurulmu\u015ftur.\"\n",
        ")\n",
        "\n",
        "generated_news = generate_news(sample_stock_report, model, tokenizer, device)\n",
        "print(\"\u00dcretilen Haber:\")\n",
        "print(generated_news)\n"
      ],
      "metadata": {
        "colab": {
          "base_uri": "https://localhost:8080/"
        },
        "id": "xCIWkObdbo6f",
        "outputId": "c6abaacc-47b0-4e59-b54e-3b9b9702da75"
      },
      "execution_count": null,
      "outputs": [
        {
          "output_type": "stream",
          "name": "stdout",
          "text": [
            "\u00dcretilen Haber:\n",
            "\u015eirket, tamam\u0131na sahip oldu\u011fu ba\u011fl\u0131 ortakl\u0131\u011f\u0131 Marba\u015f Menkul De\u011ferler A.\u015e.\u2019nin sermaye art\u0131r\u0131m\u0131 s\u00fcrecinde \u00f6nemli bir ad\u0131m att\u0131. 150 milyon TL olan \u00e7\u0131kar\u0131lm\u0131\u015f sermaye, i\u00e7 kaynaklardan kar\u015f\u0131lanmak \u00fczere 360 milyon TL\u2019ye y\u00fckseltildi. Sermaye Piyasas\u0131 Kurulu da Marba\u015f taraf\u0131ndan yap\u0131lan ba\u015fvuruyu olumlu kar\u015f\u0131layarak art\u0131\u015f\u0131 onaylad\u0131. Bu ad\u0131m, Marba\u015f\u2019\u0131n uzun vadeli b\u00fcy\u00fcme stratejisine i\u015faret ediyor gibi g\u00f6r\u00fcn\u00fcyor. A\u00e7\u0131k\u00e7as\u0131, i\u00e7 kaynaklar\u0131 g\u00fc\u00e7l\u00fc bir yap\u0131ya kavu\u015fmas\u0131 ve Marba\u015f\u2019\u0131n g\u00fc\u00e7l\u00fc \u00f6zkaynak yap\u0131s\u0131 korunmas\u0131 a\u00e7\u0131s\u0131ndan olumlu bir sinyal\n"
          ]
        }
      ]
    },
    {
      "cell_type": "code",
      "source": [
        "sample_stock_report = (\"Sermayesine %49 oran\u0131nda ortakl\u0131\u011f\u0131m\u0131z\u0131n bulundu\u011fu i\u015ftiraklerimiz Sour Turizm A.\u015e. ve \u00c7a\u011frankaya Turizm A.\u015e.'nin sermayelerinin 250.000.000 TL'den 400.000.000 TL'ye \u00e7\u0131kar\u0131lmas\u0131na karar verilmi\u015ftir.\")\n",
        "generated_news = generate_news(sample_stock_report, model, tokenizer, device)\n",
        "print(\"\u00dcretilen Haber:\")\n",
        "print(generated_news)"
      ],
      "metadata": {
        "colab": {
          "base_uri": "https://localhost:8080/"
        },
        "id": "ryjGnIVZcGlD",
        "outputId": "a76d2acf-9f08-47bd-e0a4-c045bd0ef6ab"
      },
      "execution_count": null,
      "outputs": [
        {
          "output_type": "stream",
          "name": "stdout",
          "text": [
            "\u00dcretilen Haber:\n",
            "\u015eirket, %49 oran\u0131nda ba\u011fl\u0131 ortakl\u0131\u011f\u0131 olan SOUR Turizm A.\u015e. ve \u00c7a\u011frankaya Turizm A.\u015e.\u2019nin sermayesini 25 milyon TL\u2019den 40 milyon TL\u2019ye \u00e7\u0131karma karar\u0131 ald\u0131. Bu ad\u0131m, sadece turizm de\u011fil, ayn\u0131 zamanda sosyal sorumluluklar\u0131 a\u00e7\u0131s\u0131ndan da b\u00fcy\u00fck bir ad\u0131m olarak g\u00f6r\u00fcl\u00fcyor. A\u00e7\u0131k\u00e7as\u0131, s\u00f6z konusu karar, \u015firketin uzun vadeli b\u00fcy\u00fcme stratejisine i\u015faret ediyor gibi g\u00f6r\u00fcn\u00fcyor.\n"
          ]
        }
      ]
    }
  ]
}